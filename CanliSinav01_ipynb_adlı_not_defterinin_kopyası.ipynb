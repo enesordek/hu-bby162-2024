{
  "nbformat": 4,
  "nbformat_minor": 0,
  "metadata": {
    "colab": {
      "provenance": [],
      "include_colab_link": true
    },
    "kernelspec": {
      "name": "python3",
      "display_name": "Python 3"
    },
    "language_info": {
      "name": "python"
    }
  },
  "cells": [
    {
      "cell_type": "markdown",
      "metadata": {
        "id": "view-in-github",
        "colab_type": "text"
      },
      "source": [
        "<a href=\"https://colab.research.google.com/github/enesordek/hu-bby162-2024/blob/main/CanliSinav01_ipynb_adl%C4%B1_not_defterinin_kopyas%C4%B1.ipynb\" target=\"_parent\"><img src=\"https://colab.research.google.com/assets/colab-badge.svg\" alt=\"Open In Colab\"/></a>"
      ]
    },
    {
      "cell_type": "markdown",
      "source": [
        "**Canlı Sınav 01'e hoşgeldiniz!**"
      ],
      "metadata": {
        "id": "ItmuxWgBbkC1"
      }
    },
    {
      "cell_type": "markdown",
      "source": [
        "Canlı sınav, bilgisayar laboratuvarında bilgisayar başında yapılan ve teslim edilen projeyi ifade etmektedir. Canlı sınavda yazmış olduğunuz kodlar sizin sorumluluğunuzdadır ve gerekirse hangi kodu neden yazdığınızı açık bir şekilde anlatabilmeniz gerekmektedir. Canlı sınav sırasında İnternet üzerindeki kaynaklar kullanılabilir ancak başka bir kişiden destek alınamaz.\n",
        "\n",
        "Canlı sınavın teslim şekli önceki proje çalışmasında olduğu gibidir. \"Canlı Sınav 01\" adlı Colab not defterinin bir kopyasını çıkarmalı, size ait olan bu kopya üzerinde soruları cevaplamalı, GitHub'daki ders deponuza size ait kopyayı yüklemeli ve not defterinin adresini metin alanına yazarak göndermelisiniz.\n",
        "\n",
        "Canlı sınavın doğru şekilde tamamlanması da sınavın önemli bir parçasıdır. Sınav için gönderdiğiniz adresi kontrol ediniz ve doğru dosyayı depoya yerleştirdiği bizden emin olunuz. Teslim sürecinde yapılan hatalar sınavdan 0 puan almanıza yol açabilir!\n",
        "\n",
        "Önemli Not: Soruları cecaplarken sadece şu ana kadar öğrendiğiniz kod yapılarını kullanmanız gerekmektedir!!!"
      ],
      "metadata": {
        "id": "KGjdjR5RbTgH"
      }
    },
    {
      "cell_type": "markdown",
      "source": [
        "**----- Sorular -----**"
      ],
      "metadata": {
        "id": "zBvdh4s8cOqM"
      }
    },
    {
      "cell_type": "markdown",
      "source": [
        "**Soru 1:** Bir giriş sisteminde kullanıcı adı olarak eposta ya da telefon numarası kullanılabilmektedir. Şifre ise tektir. Klavyeden doğru kullanıcı adı ve şifre girildiğinde ekrana \" Sisteme giriş yaptınız\" , yanlış kullanıcı adı girildiğinde \"kullanıcı adı hatalı\" , yanlış şifre girildiğinde \"şifre hatalı\" bilgisi yazdırılmalıdır. Kullanıcı adı hatalı ise şifre sorma adımına geçilmemelidir."
      ],
      "metadata": {
        "id": "ma0FVqgQiLBe"
      }
    },
    {
      "cell_type": "code",
      "source": [
        "#Soru 1 bu bölümde kodlanmalıdır\n",
        "eposta = \"a@a.net\"\n",
        "tel = \"532\"\n",
        "sifre = \"123\"\n",
        "valid_users = {\n",
        "    \"a@a.net\": \"123\",\n",
        "    \"532\": \"123\",\n",
        "}\n",
        "\n",
        "# Get the user's email or phone number and password\n",
        "username = input(\"Email gir ya da telefon numarası: \")\n",
        "şifre = input(\"Şifreni gir: \")\n",
        "\n",
        "# Girilen kullanıcı adı ve şifrenin geçerli olup olmadığını kontrol edin\n",
        "if username in valid_users:\n",
        "    if valid_users[username] == şifre:\n",
        "        print(\"Sisteme giriş yaptınız.\")\n",
        "    else:\n",
        "        print(\"Şifre hatalı.\")\n",
        "else:\n",
        "    print(\"Kullanıcı adı hatalı.\")\n",
        "\n"
      ],
      "metadata": {
        "id": "Fj7wkLMcjp_7",
        "outputId": "8ffee4d5-8603-4631-91fd-d9238aef63b3",
        "colab": {
          "base_uri": "https://localhost:8080/"
        }
      },
      "execution_count": null,
      "outputs": [
        {
          "output_type": "stream",
          "name": "stdout",
          "text": [
            "Email gir ya da telefon numarası: 532\n",
            "Şifreni gir: 123\n",
            "Sisteme giriş yaptınız.\n"
          ]
        }
      ]
    },
    {
      "cell_type": "markdown",
      "source": [
        "**Soru 2:** Klavyeden girilen bir insan ismindeki harf sayısına göre ekrana bir cümle yazdırınız. Örneğin 4 harfli bir isim girildiğinde ekrana \"Dört dörtlük bir isim\", 6 harfli bir isim girildiğinde ekrana \"Altıncı hissin kuvvetli\" yazılabilmelidir. Klavyeden üçten az ya da yediden çok harfe sahip bir isim girildiğinde ise ekrana \"isminiz sisteme uygun değildir\" mesajı yazdırılmalıdır."
      ],
      "metadata": {
        "id": "uZDiXJARgK4o"
      }
    },
    {
      "cell_type": "code",
      "source": [
        "#Soru 2 bu bölümde kodlanmalıdır\n",
        "# Get the user's name as input\n",
        "name = input(\"Please enter your name: \")\n",
        "\n",
        "# Get the length of the name\n",
        "name_length = len(name)\n",
        "\n",
        "# Print a message based on the length of the name\n",
        "if name_length == 3 or name_length >= 7:\n",
        "    print(\"Isminiz sisteme uygun değildir.\")\n",
        "elif name_length == 4:\n",
        "    print(\"Dört dörtlük bir isim.\")\n",
        "elif name_length == 5:\n",
        "    print(\"Beşik gibi bir isim.\")\n",
        "elif name_length == 6:\n",
        "    print(\"Altıncı hissin kuvvetli.\")\n"
      ],
      "metadata": {
        "id": "no7Zd1ZCh5U3",
        "outputId": "4ef6bf05-bd19-48d6-caad-809d52e0ff69",
        "colab": {
          "base_uri": "https://localhost:8080/"
        }
      },
      "execution_count": null,
      "outputs": [
        {
          "output_type": "stream",
          "name": "stdout",
          "text": [
            "Please enter your name: enes\n",
            "Dört dörtlük bir isim.\n"
          ]
        }
      ]
    },
    {
      "cell_type": "markdown",
      "source": [
        "**Soru 3:** 5 öğenin yer aldığı bir kelime tahmin oyunu oluşturun. Kelimeler bir liste içinde yer almalıdır. Klavyeden girilen kelime liste içinde yer alan kelimelerden biri ise ekrana \"bravo oyunu kazandınız\", aksi halde ise ekrana \"üzgünüm oyunu kaybettiniz\" mesajı gelmelidir."
      ],
      "metadata": {
        "id": "HnIqbjcCeNEV"
      }
    },
    {
      "cell_type": "code",
      "source": [
        "#Soru 3 bu bölümde kodlanmalıdır\n",
        "# List of 5-letter words\n",
        "word_list = [\"ev\", \"elma\", \"basit\", \"bulut\", \"dans\"]\n",
        "\n",
        "def game():\n",
        "    print(\"Welcome to the 5-word guessing game!\")\n",
        "    print(\"You have to guess a 5-letter word from the list.\")\n",
        "    print(\"Good luck!\")\n",
        "\n",
        "    while True:\n",
        "        guess = input(\"Enter a 5-letter word: \")\n",
        "\n",
        "        if guess in word_list:\n",
        "            print(\"bravo oyunu kazandınız\")\n",
        "            break\n",
        "        else:\n",
        "            print(\"üzgünüm oyunu kaybettiniz\")\n",
        "\n",
        "game()\n",
        "\n",
        "\n",
        "\n"
      ],
      "metadata": {
        "id": "SjzG5g3ffTyv",
        "outputId": "8c9f8a7e-a0af-4aaf-ff4a-c1b1e886af1c",
        "colab": {
          "base_uri": "https://localhost:8080/"
        }
      },
      "execution_count": null,
      "outputs": [
        {
          "output_type": "stream",
          "name": "stdout",
          "text": [
            "Welcome to the 5-word guessing game!\n",
            "You have to guess a 5-letter word from the list.\n",
            "Good luck!\n",
            "Enter a 5-letter word: ev\n",
            "bravo oyunu kazandınız\n"
          ]
        }
      ]
    },
    {
      "cell_type": "markdown",
      "source": [
        "**Soru 4:** 5 öğenin yer aldığı bir sözlük oluşturun. Bu sözlükte 5 kelime ve bu 5 kelimenin anlamları yer almalıdır. Klavyeden girilen anahtar (key) eğer sözlükte varsa kelimenin anlamı ekrana yazdırılmalıdır. Eğer anahtar sözlükte yoksa sözlükte aranan kelimenin olmadığı bilgisi ekrana yazdırılmalıdır."
      ],
      "metadata": {
        "id": "p49cZFjJcXoS"
      }
    },
    {
      "cell_type": "code",
      "execution_count": null,
      "metadata": {
        "id": "3whYCDz3a8QZ",
        "outputId": "307ba7e6-1cf5-4198-8946-4b0aeb58e579",
        "colab": {
          "base_uri": "https://localhost:8080/"
        }
      },
      "outputs": [
        {
          "output_type": "stream",
          "name": "stdout",
          "text": [
            "Lütfen bir kelime girin: salıncak\n",
            "Sözlükte aradığınız kelime bulunamadı.\n"
          ]
        }
      ],
      "source": [
        "#Soru 4 bu bölümde kodlanmalıdır\n",
        "\n",
        "sozluk = {\n",
        "    \"elma\": \"Yumuşak, sulu ve tatlı bir meyve.\",\n",
        "    \"kitap\": \"Sayfaları olan yazılı metinleri içeren baskılı veya dijital bir yayın.\",\n",
        "    \"kalem\": \"Yazma veya çizme amacıyla kullanılan araç, genellikle tükenmez mürekkep kullanılır.\",\n",
        "    \"araba\": \"Motorlu taşıtların genel adı, dört tekerlekli ve motorlu bir araç.\",\n",
        "    \"ev\": \"İnsanların barınmak, dinlenmek, yemek yemek ve diğer faaliyetlerini yapmak için kullandıkları yapı.\"\n",
        "}\n",
        "\n",
        "anahtar = input(\"Lütfen bir kelime girin: \")\n",
        "\n",
        "if anahtar in sozluk:\n",
        "    print(sozluk[anahtar])\n",
        "else:\n",
        "    print(\"Sözlükte aradığınız kelime bulunamadı.\")\n"
      ]
    }
  ]
}