{
  "nbformat": 4,
  "nbformat_minor": 0,
  "metadata": {
    "colab": {
      "provenance": [],
      "include_colab_link": true
    },
    "kernelspec": {
      "name": "python3",
      "display_name": "Python 3"
    },
    "language_info": {
      "name": "python"
    }
  },
  "cells": [
    {
      "cell_type": "markdown",
      "metadata": {
        "id": "view-in-github",
        "colab_type": "text"
      },
      "source": [
        "<a href=\"https://colab.research.google.com/github/enesordek/hu-bby162-2024/blob/main/FinalSinavi.ipynb\" target=\"_parent\"><img src=\"https://colab.research.google.com/assets/colab-badge.svg\" alt=\"Open In Colab\"/></a>"
      ]
    },
    {
      "cell_type": "markdown",
      "source": [
        "**Final Sınavına hoşgeldiniz!**"
      ],
      "metadata": {
        "id": "ItmuxWgBbkC1"
      }
    },
    {
      "cell_type": "markdown",
      "source": [
        "Canlı final sınavı, bilgisayar laboratuvarında bilgisayar başında yapılan ve teslim edilen sınavı ifade etmektedir. Canlı final sınavında yazmış olduğunuz kodlar sizin sorumluluğunuzdadır ve gerekirse hangi kodu neden yazdığınızı açık bir şekilde anlatabilmeniz gerekmektedir. Canlı final sınavı sırasında İnternet üzerindeki kaynaklar kullanılabilir ancak başka bir kişiden destek alınamaz.\n",
        "\n",
        "Canlı final sınavının teslim şekli önceki sınav ve projelerin teslim şekli ile aynıdır. \"Final Sınavı\" adlı Colab not defterinin bir kopyasını çıkarmalı, size ait olan bu kopya üzerinde soruları cevaplamalı, GitHub'daki ders deponuza size ait kopyayı yüklemeli ve not defterinin adresini metin alanına yazarak göndermelisiniz.\n",
        "\n",
        "Canlı final sınavının doğru şekilde tamamlanması da sınavın önemli bir parçasıdır. Sınav için gönderdiğiniz adresi kontrol ediniz ve doğru dosyayı depoya yerleştirdiği bizden emin olunuz. Teslim sürecinde yapılan hatalar sınavdan 0 puan almanıza yol açabilir!\n",
        "\n",
        "**Sınav süresi 60 dakikadır!**\n",
        "\n",
        "Önemli Not: Soruları cecaplarken sadece şu ana kadar öğrendiğiniz kod yapılarını kullanmanız gerekmektedir!!!"
      ],
      "metadata": {
        "id": "KGjdjR5RbTgH"
      }
    },
    {
      "cell_type": "markdown",
      "source": [
        "**----- Sorular -----**"
      ],
      "metadata": {
        "id": "zBvdh4s8cOqM"
      }
    },
    {
      "cell_type": "markdown",
      "source": [
        "**Soru 1:** Kod bölümünde yer alan listeyi ekrana aşağıda gösterildiği şekilde \"for\" döngüsü kullanarak yazdırın. Her kelimenin başındaki numara otomatik olarak verilmelidir. (5 Puan)\n",
        "\n",
        "1.   Açık Erişim\n",
        "2.   Açık Bilim\n",
        "3.   Açık Veri\n",
        "4.   Açık Eğitim\n",
        "5.   Açık Kültür"
      ],
      "metadata": {
        "id": "ma0FVqgQiLBe"
      }
    },
    {
      "cell_type": "code",
      "source": [
        "\n",
        "acikListe = [\"Açık Erişim\", \"Açık Bilim\", \"Açık Veri\", \"Açık Eğitim\", \"Açık Kültür\"]\n",
        "acikListe = [\"Açık Erişim\", \"Açık Bilim\", \"Açık Veri\", \"Açık Eğitim\", \"Açık Kültür\"]\n",
        "\n",
        "for index in range(len(acikListe)):\n",
        "    print(f\"{index+1} {acikListe[index]}\")\n",
        "\n",
        "\n"
      ],
      "metadata": {
        "id": "Fj7wkLMcjp_7",
        "colab": {
          "base_uri": "https://localhost:8080/"
        },
        "outputId": "4db74163-fdb1-43bd-c934-89e6ad85a443"
      },
      "execution_count": 7,
      "outputs": [
        {
          "output_type": "stream",
          "name": "stdout",
          "text": [
            "1 Açık Erişim\n",
            "2 Açık Bilim\n",
            "3 Açık Veri\n",
            "4 Açık Eğitim\n",
            "5 Açık Kültür\n"
          ]
        }
      ]
    },
    {
      "cell_type": "markdown",
      "source": [
        "**Soru 2:** Kod bölümünde yer alan boş sözlüğe klavyeden yeni veri ekleyecek kodu yazınız. Yeni veri hem anahtarı (key) hem de anahtara karşılık gelecek değerli (value) içermelidir. Veri girişi yapıldıktan sonra sözlüğün güncel hali de ekrana yazıdırılmalıdır. (5 Puan)"
      ],
      "metadata": {
        "id": "uZDiXJARgK4o"
      }
    },
    {
      "cell_type": "code",
      "source": [
        "#Soru 2 bu bölümde kodlanmalıdır\n",
        "sozluk = {}\n",
        "sozluk = {}\n",
        "\n",
        "anahtar = input(\"Yeni verinin anahtarını girin: \")\n",
        "deger = input(\"Yeni verinin değerini girin: \")\n",
        "\n",
        "sozluk[anahtar] = deger\n",
        "\n",
        "print(\"Güncel sözlük:\")\n",
        "print(sozluk)\n",
        "\n",
        "\n",
        "\n"
      ],
      "metadata": {
        "id": "no7Zd1ZCh5U3",
        "colab": {
          "base_uri": "https://localhost:8080/"
        },
        "outputId": "04da201f-0ec1-4d69-c5ed-31189a81b87c"
      },
      "execution_count": 2,
      "outputs": [
        {
          "output_type": "stream",
          "name": "stdout",
          "text": [
            "Yeni verinin anahtarını girin: enes\n",
            "Yeni verinin değerini girin: 1\n",
            "Güncel sözlük:\n",
            "{'enes': '1'}\n"
          ]
        }
      ]
    },
    {
      "cell_type": "markdown",
      "source": [
        "**Soru 3:** Herhangi bir metin dosyasında (ör: [veri.txt](https://drive.google.com/file/d/1WVCEET3G3ishvIR-V6lCav7jBgaZLT-o/view?usp=sharing)) satır satır yer alan verileri okuyup ekrana satır satır yazdıracak kodu yazınız. (10 Puan)"
      ],
      "metadata": {
        "id": "HnIqbjcCeNEV"
      }
    },
    {
      "cell_type": "code",
      "source": [
        "#Soru 3 bu bölümde kodlanmalıdır\n",
        "dosya_adi = \"veri.txt\"\n",
        "\n",
        "try:\n",
        "    with open(dosya_adi, \"r\") as dosya:\n",
        "        for satir in dosya:\n",
        "            print(satir.strip())  # strip() ile satır sonundaki gereksiz boşlukları kaldırırız\n",
        "except FileNotFoundError:\n",
        "    print(f\"{dosya_adi} adlı dosya bulunamadı.\")\n",
        "except IOError:\n",
        "    print(f\"{dosya_adi} adlı dosya okunurken bir hata oluştu.\")\n",
        "\n",
        "\n",
        "\n",
        "\n",
        "\n"
      ],
      "metadata": {
        "id": "SjzG5g3ffTyv",
        "colab": {
          "base_uri": "https://localhost:8080/"
        },
        "outputId": "e21dcbbe-42a8-4c16-e277-e7fc96a5a728"
      },
      "execution_count": 11,
      "outputs": [
        {
          "output_type": "stream",
          "name": "stdout",
          "text": [
            "veri.txt adlı dosya bulunamadı.\n"
          ]
        }
      ]
    },
    {
      "cell_type": "markdown",
      "source": [
        "**Soru 4:** Verilerin bir TXT dosyasında depolanabileceği basit bir adres defteri oluşturunuz. Adres defterindeki öğeler Ad-Soyad ve e-Posta olacaktır. Bu adres desteri uygulamasında bir menü yapısı (uygulama içinde fonksiyolar) olmalıdır. 1. seçenek adres defterindeki girişleri göstermeli, 2. seçenek adres defterine yeni veri eklemeli, 3. seçenek ise uygulamayı sonlandırmalıdır. (20 Puan)"
      ],
      "metadata": {
        "id": "p49cZFjJcXoS"
      }
    },
    {
      "cell_type": "code",
      "execution_count": 6,
      "metadata": {
        "id": "3whYCDz3a8QZ",
        "colab": {
          "base_uri": "https://localhost:8080/"
        },
        "outputId": "2e6b9323-db70-4c6c-b390-6084b044db2e"
      },
      "outputs": [
        {
          "output_type": "stream",
          "name": "stdout",
          "text": [
            "\n",
            "Adres Defteri Uygulaması\n",
            "1. Adres defterini göster\n",
            "2. Yeni veri ekle\n",
            "3. Çıkış\n",
            "Lütfen bir seçenek seçin: 2\n",
            "Yeni kişinin adını ve soyadını girin: enes\n",
            "Yeni kişinin e-posta adresini girin: ordekenes\n",
            "Yeni veri başarıyla eklendi.\n",
            "\n",
            "Adres Defteri Uygulaması\n",
            "1. Adres defterini göster\n",
            "2. Yeni veri ekle\n",
            "3. Çıkış\n",
            "Lütfen bir seçenek seçin: 1\n",
            "Adres Defteri:\n",
            "{ad_soyad}: {e_posta}\n",
            "mn: oy\n",
            "enes: ordekenes\n",
            "\n",
            "Adres Defteri Uygulaması\n",
            "1. Adres defterini göster\n",
            "2. Yeni veri ekle\n",
            "3. Çıkış\n",
            "Lütfen bir seçenek seçin: 3\n",
            "Programdan çıkılıyor...\n"
          ]
        }
      ],
      "source": [
        "#Soru 4 bu bölümde kodlanmalıdır\n",
        "def adres_defterini_goster():\n",
        "    try:\n",
        "        with open(\"adres_defteri.txt\", \"r\") as dosya:\n",
        "            print(\"Adres Defteri:\")\n",
        "            for satir in dosya:\n",
        "                print(satir.strip())\n",
        "    except FileNotFoundError:\n",
        "        print(\"Adres defteri bulunamadı.\")\n",
        "\n",
        "def yeni_veri_ekle():\n",
        "    ad_soyad = input(\"Yeni kişinin adını ve soyadını girin: \")\n",
        "    e_posta = input(\"Yeni kişinin e-posta adresini girin: \")\n",
        "\n",
        "    with open(\"adres_defteri.txt\", \"a\") as dosya:\n",
        "        dosya.write(f\"{ad_soyad}: {e_posta}\\n\")\n",
        "    print(\"Yeni veri başarıyla eklendi.\")\n",
        "\n",
        "def uygulamayi_calistir():\n",
        "    while True:\n",
        "        print(\"\\nAdres Defteri Uygulaması\")\n",
        "        print(\"1. Adres defterini göster\")\n",
        "        print(\"2. Yeni veri ekle\")\n",
        "        print(\"3. Çıkış\")\n",
        "        secenek = input(\"Lütfen bir seçenek seçin: \")\n",
        "\n",
        "        if secenek == \"1\":\n",
        "            adres_defterini_goster()\n",
        "        elif secenek == \"2\":\n",
        "            yeni_veri_ekle()\n",
        "        elif secenek == \"3\":\n",
        "            print(\"Programdan çıkılıyor...\")\n",
        "            break\n",
        "        else:\n",
        "            print(\"Geçersiz seçenek, lütfen tekrar deneyin.\")\n",
        "\n",
        "uygulamayi_calistir()\n"
      ]
    }
  ]
}